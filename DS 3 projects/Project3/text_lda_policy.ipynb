{
 "cells": [
  {
   "cell_type": "markdown",
   "metadata": {},
   "source": [
    "## Topic modeling using small policy dataset"
   ]
  },
  {
   "cell_type": "code",
   "execution_count": 1,
   "metadata": {},
   "outputs": [],
   "source": [
    "from sklearn.feature_extraction.text import CountVectorizer\n",
    "from sklearn.decomposition import LatentDirichletAllocation\n",
    "import pandas as pd\n",
    "import numpy as np"
   ]
  },
  {
   "cell_type": "code",
   "execution_count": 2,
   "metadata": {},
   "outputs": [],
   "source": [
    "# Create small dataframe with customer feedback\n",
    "text_train = pd.DataFrame({\n",
    "    \"policy_views\": [\"I would like more funding for pollution mitigation\",\n",
    "                \"Environmental regulation and reducing pollution is important to me\",\n",
    "                \"Minimum wage and raising living standards\",\n",
    "                \"Wages are so low and they need to go up whether by minimum wage increases or collective bargaining\",\n",
    "               \"Climate change and environmental degredation are my main focus\",\n",
    "               \"Investing in renewable fuels and environmental regulation\",\n",
    "               \"Minimum wage and climate change, environmental policy\",\n",
    "               \"environment, climate chamge global warming, solar power\",\n",
    "               \"Increase federal minimum wage to a livable level to ensure nobody is in poverty\"]\n",
    "})"
   ]
  },
  {
   "cell_type": "code",
   "execution_count": 3,
   "metadata": {},
   "outputs": [
    {
     "data": {
      "text/html": [
       "<div>\n",
       "<style scoped>\n",
       "    .dataframe tbody tr th:only-of-type {\n",
       "        vertical-align: middle;\n",
       "    }\n",
       "\n",
       "    .dataframe tbody tr th {\n",
       "        vertical-align: top;\n",
       "    }\n",
       "\n",
       "    .dataframe thead th {\n",
       "        text-align: right;\n",
       "    }\n",
       "</style>\n",
       "<table border=\"1\" class=\"dataframe\">\n",
       "  <thead>\n",
       "    <tr style=\"text-align: right;\">\n",
       "      <th></th>\n",
       "      <th>policy_views</th>\n",
       "    </tr>\n",
       "  </thead>\n",
       "  <tbody>\n",
       "    <tr>\n",
       "      <th>0</th>\n",
       "      <td>I would like more funding for pollution mitiga...</td>\n",
       "    </tr>\n",
       "    <tr>\n",
       "      <th>1</th>\n",
       "      <td>Environmental regulation and reducing pollutio...</td>\n",
       "    </tr>\n",
       "    <tr>\n",
       "      <th>2</th>\n",
       "      <td>Minimum wage and raising living standards</td>\n",
       "    </tr>\n",
       "    <tr>\n",
       "      <th>3</th>\n",
       "      <td>Wages are so low and they need to go up whethe...</td>\n",
       "    </tr>\n",
       "    <tr>\n",
       "      <th>4</th>\n",
       "      <td>Climate change and environmental degredation a...</td>\n",
       "    </tr>\n",
       "    <tr>\n",
       "      <th>5</th>\n",
       "      <td>Investing in renewable fuels and environmental...</td>\n",
       "    </tr>\n",
       "    <tr>\n",
       "      <th>6</th>\n",
       "      <td>Minimum wage and climate change, environmental...</td>\n",
       "    </tr>\n",
       "    <tr>\n",
       "      <th>7</th>\n",
       "      <td>environment, climate chamge global warming, so...</td>\n",
       "    </tr>\n",
       "    <tr>\n",
       "      <th>8</th>\n",
       "      <td>Increase federal minimum wage to a livable lev...</td>\n",
       "    </tr>\n",
       "  </tbody>\n",
       "</table>\n",
       "</div>"
      ],
      "text/plain": [
       "                                        policy_views\n",
       "0  I would like more funding for pollution mitiga...\n",
       "1  Environmental regulation and reducing pollutio...\n",
       "2          Minimum wage and raising living standards\n",
       "3  Wages are so low and they need to go up whethe...\n",
       "4  Climate change and environmental degredation a...\n",
       "5  Investing in renewable fuels and environmental...\n",
       "6  Minimum wage and climate change, environmental...\n",
       "7  environment, climate chamge global warming, so...\n",
       "8  Increase federal minimum wage to a livable lev..."
      ]
     },
     "execution_count": 3,
     "metadata": {},
     "output_type": "execute_result"
    }
   ],
   "source": [
    "text_train"
   ]
  },
  {
   "cell_type": "code",
   "execution_count": 8,
   "metadata": {},
   "outputs": [],
   "source": [
    "# Steps:\n",
    "    # 1: Instantiate vectorizer with parameters: vec\n",
    "    # 2: Vectorize column of text with fit_transform: X\n",
    "    # 3: Instantiate LDA model with parameters: lda\n",
    "    # 4: Fit LDA model to vectorized text: doc_topics"
   ]
  },
  {
   "cell_type": "code",
   "execution_count": 4,
   "metadata": {},
   "outputs": [],
   "source": [
    "# 1: create vectorizer\n",
    "vec = CountVectorizer(stop_words=\"english\")"
   ]
  },
  {
   "cell_type": "code",
   "execution_count": 5,
   "metadata": {},
   "outputs": [],
   "source": [
    "# 2: create dtm\n",
    "X = vec.fit_transform(text_train[\"policy_views\"])"
   ]
  },
  {
   "cell_type": "code",
   "execution_count": 6,
   "metadata": {},
   "outputs": [],
   "source": [
    "# 3 create lda\n",
    "lda = LatentDirichletAllocation(n_components=2)"
   ]
  },
  {
   "cell_type": "code",
   "execution_count": 7,
   "metadata": {},
   "outputs": [],
   "source": [
    "# 4 fit lda\n",
    "doc_topics = lda.fit_transform(X)"
   ]
  },
  {
   "cell_type": "code",
   "execution_count": 8,
   "metadata": {},
   "outputs": [
    {
     "name": "stdout",
     "output_type": "stream",
     "text": [
      "There are 2 topics and 40 words\n"
     ]
    }
   ],
   "source": [
    "# 5\n",
    "print(f\"There are {lda.components_.shape[0]} topics and {lda.components_.shape[1]} words\")"
   ]
  },
  {
   "cell_type": "markdown",
   "metadata": {},
   "source": [
    "### Extract top words from each topic"
   ]
  },
  {
   "cell_type": "code",
   "execution_count": 9,
   "metadata": {},
   "outputs": [],
   "source": [
    "## Get feature names (vocabulary)\n",
    "voc = np.array(vec.get_feature_names())"
   ]
  },
  {
   "cell_type": "code",
   "execution_count": 10,
   "metadata": {},
   "outputs": [],
   "source": [
    "# Set number of top words you want\n",
    "n_words=5\n",
    "\n",
    "# Create lambda function to extra top words from voc\n",
    "imp_words = lambda x: [voc[each] for each in np.argsort(x)[:-n_words-1:-1]]"
   ]
  },
  {
   "cell_type": "code",
   "execution_count": 11,
   "metadata": {},
   "outputs": [],
   "source": [
    "# Use imp_words to extract words with the highest weights from our lda model\n",
    "words_in_topic = ([imp_words(x) for x in lda.components_])"
   ]
  },
  {
   "cell_type": "code",
   "execution_count": 12,
   "metadata": {},
   "outputs": [
    {
     "data": {
      "text/plain": [
       "[['wage', 'minimum', 'bargaining', 'need', 'collective'],\n",
       " ['environmental', 'climate', 'change', 'pollution', 'minimum']]"
      ]
     },
     "execution_count": 12,
     "metadata": {},
     "output_type": "execute_result"
    }
   ],
   "source": [
    "# Examine words\n",
    "words_in_topic"
   ]
  },
  {
   "cell_type": "code",
   "execution_count": null,
   "metadata": {},
   "outputs": [],
   "source": []
  },
  {
   "cell_type": "code",
   "execution_count": null,
   "metadata": {},
   "outputs": [],
   "source": []
  },
  {
   "cell_type": "code",
   "execution_count": null,
   "metadata": {},
   "outputs": [],
   "source": []
  },
  {
   "cell_type": "code",
   "execution_count": null,
   "metadata": {},
   "outputs": [],
   "source": []
  },
  {
   "cell_type": "code",
   "execution_count": null,
   "metadata": {},
   "outputs": [],
   "source": []
  },
  {
   "cell_type": "code",
   "execution_count": 13,
   "metadata": {},
   "outputs": [],
   "source": [
    "# Join words into single string\n",
    "main_topics = [' '.join(x) for x in words_in_topic]"
   ]
  },
  {
   "cell_type": "code",
   "execution_count": 14,
   "metadata": {},
   "outputs": [],
   "source": [
    "# Create dataframe with top words and set index to topic number\n",
    "main_topics_df = pd.DataFrame({\"top_words\": main_topics},\n",
    "                             index=[\"Topic_\" + str(each) for each in range(lda.n_components)])"
   ]
  },
  {
   "cell_type": "code",
   "execution_count": 15,
   "metadata": {},
   "outputs": [
    {
     "data": {
      "text/html": [
       "<div>\n",
       "<style scoped>\n",
       "    .dataframe tbody tr th:only-of-type {\n",
       "        vertical-align: middle;\n",
       "    }\n",
       "\n",
       "    .dataframe tbody tr th {\n",
       "        vertical-align: top;\n",
       "    }\n",
       "\n",
       "    .dataframe thead th {\n",
       "        text-align: right;\n",
       "    }\n",
       "</style>\n",
       "<table border=\"1\" class=\"dataframe\">\n",
       "  <thead>\n",
       "    <tr style=\"text-align: right;\">\n",
       "      <th></th>\n",
       "      <th>top_words</th>\n",
       "    </tr>\n",
       "  </thead>\n",
       "  <tbody>\n",
       "    <tr>\n",
       "      <th>Topic_0</th>\n",
       "      <td>wage minimum bargaining need collective</td>\n",
       "    </tr>\n",
       "    <tr>\n",
       "      <th>Topic_1</th>\n",
       "      <td>environmental climate change pollution minimum</td>\n",
       "    </tr>\n",
       "  </tbody>\n",
       "</table>\n",
       "</div>"
      ],
      "text/plain": [
       "                                              top_words\n",
       "Topic_0         wage minimum bargaining need collective\n",
       "Topic_1  environmental climate change pollution minimum"
      ]
     },
     "execution_count": 15,
     "metadata": {},
     "output_type": "execute_result"
    }
   ],
   "source": [
    "# Examine top words\n",
    "main_topics_df"
   ]
  },
  {
   "cell_type": "code",
   "execution_count": 16,
   "metadata": {},
   "outputs": [
    {
     "name": "stdout",
     "output_type": "stream",
     "text": [
      "Top words in topic 1: wage minimum bargaining need collective\n"
     ]
    }
   ],
   "source": [
    "# Examine topic 1\n",
    "print(f\"Top words in topic 1: {main_topics_df['top_words'][0]}\")"
   ]
  },
  {
   "cell_type": "code",
   "execution_count": 17,
   "metadata": {},
   "outputs": [
    {
     "name": "stdout",
     "output_type": "stream",
     "text": [
      "Top words in topic 0: wage minimum bargaining need collective\n",
      "\n",
      "Top words in topic 1: environmental climate change pollution minimum\n",
      "\n"
     ]
    }
   ],
   "source": [
    "# Loop to look at multiple topics' top words\n",
    "for i, each in enumerate(main_topics_df[\"top_words\"]):\n",
    "    print(f\"Top words in topic {i}: {each}\\n\")"
   ]
  },
  {
   "cell_type": "markdown",
   "metadata": {},
   "source": [
    "### Extract top words from topics (as a function)"
   ]
  },
  {
   "cell_type": "code",
   "execution_count": null,
   "metadata": {},
   "outputs": [],
   "source": [
    "def top_words_f(n_words):\n",
    "    n_words=n_words\n",
    "    imp_words = lambda x: [voc[each] for each in np.argsort(x)[:-n_words-1:-1]]\n",
    "    words_in_topic = ([imp_words(x) for x in lda.components_])\n",
    "    main_topics = [' '.join(x) for x in words_in_topic]\n",
    "    df = pd.DataFrame(main_topics).T\n",
    "    df.columns = columns=[\"Topic_\" + str(each) for each in range(lda.n_components)]\n",
    "    return df"
   ]
  },
  {
   "cell_type": "code",
   "execution_count": null,
   "metadata": {},
   "outputs": [],
   "source": [
    "# Call function and specify number of top words\n",
    "main_topics_df = top_words_f(3)"
   ]
  },
  {
   "cell_type": "code",
   "execution_count": null,
   "metadata": {},
   "outputs": [],
   "source": [
    "# Print top words in topic 1\n",
    "print(f\"Top words in topic 1: {main_topics_df['top_words'][0]}\")"
   ]
  },
  {
   "cell_type": "code",
   "execution_count": null,
   "metadata": {},
   "outputs": [],
   "source": [
    "# Print top words in each topic\n",
    "for i, each in enumerate(main_topics_df[\"top_words\"]):\n",
    "    print(f\"Top words in topic {i}: {each}\\n\")"
   ]
  },
  {
   "cell_type": "markdown",
   "metadata": {},
   "source": [
    "### Create a document topic matrix from results"
   ]
  },
  {
   "cell_type": "code",
   "execution_count": 18,
   "metadata": {},
   "outputs": [],
   "source": [
    "cols = [\"Topic_\" + str(each) for each in range(lda.n_components)]\n",
    "docs = [\"Document_\" + str(each) for each in range(X.shape[0])]"
   ]
  },
  {
   "cell_type": "code",
   "execution_count": 20,
   "metadata": {},
   "outputs": [
    {
     "data": {
      "text/plain": [
       "['Document_0',\n",
       " 'Document_1',\n",
       " 'Document_2',\n",
       " 'Document_3',\n",
       " 'Document_4',\n",
       " 'Document_5',\n",
       " 'Document_6',\n",
       " 'Document_7',\n",
       " 'Document_8']"
      ]
     },
     "execution_count": 20,
     "metadata": {},
     "output_type": "execute_result"
    }
   ],
   "source": [
    "docs"
   ]
  },
  {
   "cell_type": "code",
   "execution_count": 25,
   "metadata": {},
   "outputs": [
    {
     "data": {
      "text/plain": [
       "array([[0.89704343, 0.10295657],\n",
       "       [0.88051073, 0.11948927],\n",
       "       [0.90459607, 0.09540393],\n",
       "       [0.93906499, 0.06093501],\n",
       "       [0.07536681, 0.92463319],\n",
       "       [0.09754112, 0.90245888],\n",
       "       [0.08922875, 0.91077125],\n",
       "       [0.06556875, 0.93443125],\n",
       "       [0.0658709 , 0.9341291 ]])"
      ]
     },
     "execution_count": 25,
     "metadata": {},
     "output_type": "execute_result"
    }
   ],
   "source": [
    "# Our input weight vector is doc_topics\n",
    "# This is a 2d array that is the proportion of the words in each document generated from that topic\n",
    "doc_topics"
   ]
  },
  {
   "cell_type": "code",
   "execution_count": 21,
   "metadata": {},
   "outputs": [],
   "source": [
    "# Create dataframe with term weights and document # and topic # as rows, columns\n",
    "df_topics = pd.DataFrame(np.round(doc_topics, 2),\n",
    "                        columns=cols,\n",
    "                        index=docs)"
   ]
  },
  {
   "cell_type": "code",
   "execution_count": 22,
   "metadata": {},
   "outputs": [],
   "source": [
    "# Extract most important topics from those values\n",
    "imp_topic = np.argmax(df_topics.values, axis=1)"
   ]
  },
  {
   "cell_type": "code",
   "execution_count": 24,
   "metadata": {},
   "outputs": [
    {
     "data": {
      "text/html": [
       "<div>\n",
       "<style scoped>\n",
       "    .dataframe tbody tr th:only-of-type {\n",
       "        vertical-align: middle;\n",
       "    }\n",
       "\n",
       "    .dataframe tbody tr th {\n",
       "        vertical-align: top;\n",
       "    }\n",
       "\n",
       "    .dataframe thead th {\n",
       "        text-align: right;\n",
       "    }\n",
       "</style>\n",
       "<table border=\"1\" class=\"dataframe\">\n",
       "  <thead>\n",
       "    <tr style=\"text-align: right;\">\n",
       "      <th></th>\n",
       "      <th>policy_views</th>\n",
       "    </tr>\n",
       "  </thead>\n",
       "  <tbody>\n",
       "    <tr>\n",
       "      <th>0</th>\n",
       "      <td>I would like more funding for pollution mitiga...</td>\n",
       "    </tr>\n",
       "    <tr>\n",
       "      <th>1</th>\n",
       "      <td>Environmental regulation and reducing pollutio...</td>\n",
       "    </tr>\n",
       "    <tr>\n",
       "      <th>2</th>\n",
       "      <td>Minimum wage and raising living standards</td>\n",
       "    </tr>\n",
       "    <tr>\n",
       "      <th>3</th>\n",
       "      <td>Wages are so low and they need to go up whethe...</td>\n",
       "    </tr>\n",
       "    <tr>\n",
       "      <th>4</th>\n",
       "      <td>Climate change and environmental degredation a...</td>\n",
       "    </tr>\n",
       "    <tr>\n",
       "      <th>5</th>\n",
       "      <td>Investing in renewable fuels and environmental...</td>\n",
       "    </tr>\n",
       "    <tr>\n",
       "      <th>6</th>\n",
       "      <td>Minimum wage and climate change, environmental...</td>\n",
       "    </tr>\n",
       "    <tr>\n",
       "      <th>7</th>\n",
       "      <td>environment, climate chamge global warming, so...</td>\n",
       "    </tr>\n",
       "    <tr>\n",
       "      <th>8</th>\n",
       "      <td>Increase federal minimum wage to a livable lev...</td>\n",
       "    </tr>\n",
       "  </tbody>\n",
       "</table>\n",
       "</div>"
      ],
      "text/plain": [
       "                                        policy_views\n",
       "0  I would like more funding for pollution mitiga...\n",
       "1  Environmental regulation and reducing pollutio...\n",
       "2          Minimum wage and raising living standards\n",
       "3  Wages are so low and they need to go up whethe...\n",
       "4  Climate change and environmental degredation a...\n",
       "5  Investing in renewable fuels and environmental...\n",
       "6  Minimum wage and climate change, environmental...\n",
       "7  environment, climate chamge global warming, so...\n",
       "8  Increase federal minimum wage to a livable lev..."
      ]
     },
     "execution_count": 24,
     "metadata": {},
     "output_type": "execute_result"
    }
   ],
   "source": [
    "text_train"
   ]
  },
  {
   "cell_type": "code",
   "execution_count": 23,
   "metadata": {},
   "outputs": [
    {
     "data": {
      "text/html": [
       "<div>\n",
       "<style scoped>\n",
       "    .dataframe tbody tr th:only-of-type {\n",
       "        vertical-align: middle;\n",
       "    }\n",
       "\n",
       "    .dataframe tbody tr th {\n",
       "        vertical-align: top;\n",
       "    }\n",
       "\n",
       "    .dataframe thead th {\n",
       "        text-align: right;\n",
       "    }\n",
       "</style>\n",
       "<table border=\"1\" class=\"dataframe\">\n",
       "  <thead>\n",
       "    <tr style=\"text-align: right;\">\n",
       "      <th></th>\n",
       "      <th>Topic_0</th>\n",
       "      <th>Topic_1</th>\n",
       "    </tr>\n",
       "  </thead>\n",
       "  <tbody>\n",
       "    <tr>\n",
       "      <th>Document_0</th>\n",
       "      <td>0.10</td>\n",
       "      <td>0.90</td>\n",
       "    </tr>\n",
       "    <tr>\n",
       "      <th>Document_1</th>\n",
       "      <td>0.09</td>\n",
       "      <td>0.91</td>\n",
       "    </tr>\n",
       "    <tr>\n",
       "      <th>Document_2</th>\n",
       "      <td>0.90</td>\n",
       "      <td>0.10</td>\n",
       "    </tr>\n",
       "    <tr>\n",
       "      <th>Document_3</th>\n",
       "      <td>0.94</td>\n",
       "      <td>0.06</td>\n",
       "    </tr>\n",
       "    <tr>\n",
       "      <th>Document_4</th>\n",
       "      <td>0.08</td>\n",
       "      <td>0.92</td>\n",
       "    </tr>\n",
       "    <tr>\n",
       "      <th>Document_5</th>\n",
       "      <td>0.84</td>\n",
       "      <td>0.16</td>\n",
       "    </tr>\n",
       "    <tr>\n",
       "      <th>Document_6</th>\n",
       "      <td>0.09</td>\n",
       "      <td>0.91</td>\n",
       "    </tr>\n",
       "    <tr>\n",
       "      <th>Document_7</th>\n",
       "      <td>0.93</td>\n",
       "      <td>0.07</td>\n",
       "    </tr>\n",
       "    <tr>\n",
       "      <th>Document_8</th>\n",
       "      <td>0.06</td>\n",
       "      <td>0.94</td>\n",
       "    </tr>\n",
       "  </tbody>\n",
       "</table>\n",
       "</div>"
      ],
      "text/plain": [
       "            Topic_0  Topic_1\n",
       "Document_0     0.10     0.90\n",
       "Document_1     0.09     0.91\n",
       "Document_2     0.90     0.10\n",
       "Document_3     0.94     0.06\n",
       "Document_4     0.08     0.92\n",
       "Document_5     0.84     0.16\n",
       "Document_6     0.09     0.91\n",
       "Document_7     0.93     0.07\n",
       "Document_8     0.06     0.94"
      ]
     },
     "execution_count": 23,
     "metadata": {},
     "output_type": "execute_result"
    }
   ],
   "source": [
    "df_topics"
   ]
  },
  {
   "cell_type": "code",
   "execution_count": 25,
   "metadata": {},
   "outputs": [],
   "source": [
    "df_topics[\"top_topic\"] = imp_topic"
   ]
  },
  {
   "cell_type": "code",
   "execution_count": 27,
   "metadata": {},
   "outputs": [
    {
     "data": {
      "text/html": [
       "<div>\n",
       "<style scoped>\n",
       "    .dataframe tbody tr th:only-of-type {\n",
       "        vertical-align: middle;\n",
       "    }\n",
       "\n",
       "    .dataframe tbody tr th {\n",
       "        vertical-align: top;\n",
       "    }\n",
       "\n",
       "    .dataframe thead th {\n",
       "        text-align: right;\n",
       "    }\n",
       "</style>\n",
       "<table border=\"1\" class=\"dataframe\">\n",
       "  <thead>\n",
       "    <tr style=\"text-align: right;\">\n",
       "      <th></th>\n",
       "      <th>Topic_0</th>\n",
       "      <th>Topic_1</th>\n",
       "      <th>top_topic</th>\n",
       "    </tr>\n",
       "  </thead>\n",
       "  <tbody>\n",
       "    <tr>\n",
       "      <th>Document_0</th>\n",
       "      <td>0.10</td>\n",
       "      <td>0.90</td>\n",
       "      <td>1</td>\n",
       "    </tr>\n",
       "    <tr>\n",
       "      <th>Document_1</th>\n",
       "      <td>0.09</td>\n",
       "      <td>0.91</td>\n",
       "      <td>1</td>\n",
       "    </tr>\n",
       "    <tr>\n",
       "      <th>Document_2</th>\n",
       "      <td>0.90</td>\n",
       "      <td>0.10</td>\n",
       "      <td>0</td>\n",
       "    </tr>\n",
       "    <tr>\n",
       "      <th>Document_3</th>\n",
       "      <td>0.94</td>\n",
       "      <td>0.06</td>\n",
       "      <td>0</td>\n",
       "    </tr>\n",
       "    <tr>\n",
       "      <th>Document_4</th>\n",
       "      <td>0.08</td>\n",
       "      <td>0.92</td>\n",
       "      <td>1</td>\n",
       "    </tr>\n",
       "    <tr>\n",
       "      <th>Document_5</th>\n",
       "      <td>0.84</td>\n",
       "      <td>0.16</td>\n",
       "      <td>0</td>\n",
       "    </tr>\n",
       "    <tr>\n",
       "      <th>Document_6</th>\n",
       "      <td>0.09</td>\n",
       "      <td>0.91</td>\n",
       "      <td>1</td>\n",
       "    </tr>\n",
       "    <tr>\n",
       "      <th>Document_7</th>\n",
       "      <td>0.93</td>\n",
       "      <td>0.07</td>\n",
       "      <td>0</td>\n",
       "    </tr>\n",
       "    <tr>\n",
       "      <th>Document_8</th>\n",
       "      <td>0.06</td>\n",
       "      <td>0.94</td>\n",
       "      <td>1</td>\n",
       "    </tr>\n",
       "  </tbody>\n",
       "</table>\n",
       "</div>"
      ],
      "text/plain": [
       "            Topic_0  Topic_1  top_topic\n",
       "Document_0     0.10     0.90          1\n",
       "Document_1     0.09     0.91          1\n",
       "Document_2     0.90     0.10          0\n",
       "Document_3     0.94     0.06          0\n",
       "Document_4     0.08     0.92          1\n",
       "Document_5     0.84     0.16          0\n",
       "Document_6     0.09     0.91          1\n",
       "Document_7     0.93     0.07          0\n",
       "Document_8     0.06     0.94          1"
      ]
     },
     "execution_count": 27,
     "metadata": {},
     "output_type": "execute_result"
    }
   ],
   "source": [
    "df_topics"
   ]
  },
  {
   "cell_type": "code",
   "execution_count": 28,
   "metadata": {},
   "outputs": [],
   "source": [
    "# Assign name based on domain\n",
    "df_topics[\"topic_name\"] = np.where(df_topics[\"top_topic\"] == 1,\n",
    "                                   \"env\",\n",
    "                                   \"econ\")"
   ]
  },
  {
   "cell_type": "code",
   "execution_count": 29,
   "metadata": {},
   "outputs": [
    {
     "data": {
      "text/html": [
       "<div>\n",
       "<style scoped>\n",
       "    .dataframe tbody tr th:only-of-type {\n",
       "        vertical-align: middle;\n",
       "    }\n",
       "\n",
       "    .dataframe tbody tr th {\n",
       "        vertical-align: top;\n",
       "    }\n",
       "\n",
       "    .dataframe thead th {\n",
       "        text-align: right;\n",
       "    }\n",
       "</style>\n",
       "<table border=\"1\" class=\"dataframe\">\n",
       "  <thead>\n",
       "    <tr style=\"text-align: right;\">\n",
       "      <th></th>\n",
       "      <th>Topic_0</th>\n",
       "      <th>Topic_1</th>\n",
       "      <th>top_topic</th>\n",
       "      <th>topic_name</th>\n",
       "    </tr>\n",
       "  </thead>\n",
       "  <tbody>\n",
       "    <tr>\n",
       "      <th>Document_0</th>\n",
       "      <td>0.10</td>\n",
       "      <td>0.90</td>\n",
       "      <td>1</td>\n",
       "      <td>env</td>\n",
       "    </tr>\n",
       "    <tr>\n",
       "      <th>Document_1</th>\n",
       "      <td>0.09</td>\n",
       "      <td>0.91</td>\n",
       "      <td>1</td>\n",
       "      <td>env</td>\n",
       "    </tr>\n",
       "    <tr>\n",
       "      <th>Document_2</th>\n",
       "      <td>0.90</td>\n",
       "      <td>0.10</td>\n",
       "      <td>0</td>\n",
       "      <td>econ</td>\n",
       "    </tr>\n",
       "    <tr>\n",
       "      <th>Document_3</th>\n",
       "      <td>0.94</td>\n",
       "      <td>0.06</td>\n",
       "      <td>0</td>\n",
       "      <td>econ</td>\n",
       "    </tr>\n",
       "    <tr>\n",
       "      <th>Document_4</th>\n",
       "      <td>0.08</td>\n",
       "      <td>0.92</td>\n",
       "      <td>1</td>\n",
       "      <td>env</td>\n",
       "    </tr>\n",
       "    <tr>\n",
       "      <th>Document_5</th>\n",
       "      <td>0.84</td>\n",
       "      <td>0.16</td>\n",
       "      <td>0</td>\n",
       "      <td>econ</td>\n",
       "    </tr>\n",
       "    <tr>\n",
       "      <th>Document_6</th>\n",
       "      <td>0.09</td>\n",
       "      <td>0.91</td>\n",
       "      <td>1</td>\n",
       "      <td>env</td>\n",
       "    </tr>\n",
       "    <tr>\n",
       "      <th>Document_7</th>\n",
       "      <td>0.93</td>\n",
       "      <td>0.07</td>\n",
       "      <td>0</td>\n",
       "      <td>econ</td>\n",
       "    </tr>\n",
       "    <tr>\n",
       "      <th>Document_8</th>\n",
       "      <td>0.06</td>\n",
       "      <td>0.94</td>\n",
       "      <td>1</td>\n",
       "      <td>env</td>\n",
       "    </tr>\n",
       "  </tbody>\n",
       "</table>\n",
       "</div>"
      ],
      "text/plain": [
       "            Topic_0  Topic_1  top_topic topic_name\n",
       "Document_0     0.10     0.90          1        env\n",
       "Document_1     0.09     0.91          1        env\n",
       "Document_2     0.90     0.10          0       econ\n",
       "Document_3     0.94     0.06          0       econ\n",
       "Document_4     0.08     0.92          1        env\n",
       "Document_5     0.84     0.16          0       econ\n",
       "Document_6     0.09     0.91          1        env\n",
       "Document_7     0.93     0.07          0       econ\n",
       "Document_8     0.06     0.94          1        env"
      ]
     },
     "execution_count": 29,
     "metadata": {},
     "output_type": "execute_result"
    }
   ],
   "source": [
    "df_topics"
   ]
  },
  {
   "cell_type": "code",
   "execution_count": 32,
   "metadata": {},
   "outputs": [
    {
     "data": {
      "text/html": [
       "<div>\n",
       "<style scoped>\n",
       "    .dataframe tbody tr th:only-of-type {\n",
       "        vertical-align: middle;\n",
       "    }\n",
       "\n",
       "    .dataframe tbody tr th {\n",
       "        vertical-align: top;\n",
       "    }\n",
       "\n",
       "    .dataframe thead th {\n",
       "        text-align: right;\n",
       "    }\n",
       "</style>\n",
       "<table border=\"1\" class=\"dataframe\">\n",
       "  <thead>\n",
       "    <tr style=\"text-align: right;\">\n",
       "      <th></th>\n",
       "      <th>Topic_0</th>\n",
       "      <th>Topic_1</th>\n",
       "      <th>top_topic</th>\n",
       "    </tr>\n",
       "  </thead>\n",
       "  <tbody>\n",
       "    <tr>\n",
       "      <th>Document_0</th>\n",
       "      <td>0.90</td>\n",
       "      <td>0.10</td>\n",
       "      <td>0</td>\n",
       "    </tr>\n",
       "    <tr>\n",
       "      <th>Document_1</th>\n",
       "      <td>0.88</td>\n",
       "      <td>0.12</td>\n",
       "      <td>0</td>\n",
       "    </tr>\n",
       "    <tr>\n",
       "      <th>Document_2</th>\n",
       "      <td>0.90</td>\n",
       "      <td>0.10</td>\n",
       "      <td>0</td>\n",
       "    </tr>\n",
       "    <tr>\n",
       "      <th>Document_3</th>\n",
       "      <td>0.94</td>\n",
       "      <td>0.06</td>\n",
       "      <td>0</td>\n",
       "    </tr>\n",
       "    <tr>\n",
       "      <th>Document_4</th>\n",
       "      <td>0.08</td>\n",
       "      <td>0.92</td>\n",
       "      <td>2</td>\n",
       "    </tr>\n",
       "    <tr>\n",
       "      <th>Document_5</th>\n",
       "      <td>0.10</td>\n",
       "      <td>0.90</td>\n",
       "      <td>2</td>\n",
       "    </tr>\n",
       "    <tr>\n",
       "      <th>Document_6</th>\n",
       "      <td>0.09</td>\n",
       "      <td>0.91</td>\n",
       "      <td>2</td>\n",
       "    </tr>\n",
       "    <tr>\n",
       "      <th>Document_7</th>\n",
       "      <td>0.07</td>\n",
       "      <td>0.93</td>\n",
       "      <td>2</td>\n",
       "    </tr>\n",
       "    <tr>\n",
       "      <th>Document_8</th>\n",
       "      <td>0.07</td>\n",
       "      <td>0.93</td>\n",
       "      <td>2</td>\n",
       "    </tr>\n",
       "  </tbody>\n",
       "</table>\n",
       "</div>"
      ],
      "text/plain": [
       "            Topic_0  Topic_1  top_topic\n",
       "Document_0     0.90     0.10          0\n",
       "Document_1     0.88     0.12          0\n",
       "Document_2     0.90     0.10          0\n",
       "Document_3     0.94     0.06          0\n",
       "Document_4     0.08     0.92          2\n",
       "Document_5     0.10     0.90          2\n",
       "Document_6     0.09     0.91          2\n",
       "Document_7     0.07     0.93          2\n",
       "Document_8     0.07     0.93          2"
      ]
     },
     "execution_count": 32,
     "metadata": {},
     "output_type": "execute_result"
    }
   ],
   "source": [
    "# How dominant is the topic in each document. \n",
    "# Fundamentally: the proportion of the words in each document generated from that topic\n",
    "df_topics"
   ]
  },
  {
   "cell_type": "code",
   "execution_count": 34,
   "metadata": {},
   "outputs": [
    {
     "data": {
      "text/html": [
       "<div>\n",
       "<style scoped>\n",
       "    .dataframe tbody tr th:only-of-type {\n",
       "        vertical-align: middle;\n",
       "    }\n",
       "\n",
       "    .dataframe tbody tr th {\n",
       "        vertical-align: top;\n",
       "    }\n",
       "\n",
       "    .dataframe thead th {\n",
       "        text-align: right;\n",
       "    }\n",
       "</style>\n",
       "<table border=\"1\" class=\"dataframe\">\n",
       "  <thead>\n",
       "    <tr style=\"text-align: right;\">\n",
       "      <th></th>\n",
       "      <th>policy_views</th>\n",
       "    </tr>\n",
       "  </thead>\n",
       "  <tbody>\n",
       "    <tr>\n",
       "      <th>0</th>\n",
       "      <td>I would like more funding for pollution mitiga...</td>\n",
       "    </tr>\n",
       "    <tr>\n",
       "      <th>1</th>\n",
       "      <td>Environmental regulation and reducing pollutio...</td>\n",
       "    </tr>\n",
       "    <tr>\n",
       "      <th>2</th>\n",
       "      <td>Minimum wage and raising living standards</td>\n",
       "    </tr>\n",
       "    <tr>\n",
       "      <th>3</th>\n",
       "      <td>Wages are so low and they need to go up whethe...</td>\n",
       "    </tr>\n",
       "    <tr>\n",
       "      <th>4</th>\n",
       "      <td>Climate change and environmental degredation a...</td>\n",
       "    </tr>\n",
       "    <tr>\n",
       "      <th>5</th>\n",
       "      <td>Investing in renewable fuels and environmental...</td>\n",
       "    </tr>\n",
       "    <tr>\n",
       "      <th>6</th>\n",
       "      <td>Minimum wage and climate change, environmental...</td>\n",
       "    </tr>\n",
       "    <tr>\n",
       "      <th>7</th>\n",
       "      <td>environment, climate chamge global warming, so...</td>\n",
       "    </tr>\n",
       "    <tr>\n",
       "      <th>8</th>\n",
       "      <td>Increase federal minimum wage to a livable lev...</td>\n",
       "    </tr>\n",
       "  </tbody>\n",
       "</table>\n",
       "</div>"
      ],
      "text/plain": [
       "                                        policy_views\n",
       "0  I would like more funding for pollution mitiga...\n",
       "1  Environmental regulation and reducing pollutio...\n",
       "2          Minimum wage and raising living standards\n",
       "3  Wages are so low and they need to go up whethe...\n",
       "4  Climate change and environmental degredation a...\n",
       "5  Investing in renewable fuels and environmental...\n",
       "6  Minimum wage and climate change, environmental...\n",
       "7  environment, climate chamge global warming, so...\n",
       "8  Increase federal minimum wage to a livable lev..."
      ]
     },
     "execution_count": 34,
     "metadata": {},
     "output_type": "execute_result"
    }
   ],
   "source": [
    "text_train"
   ]
  },
  {
   "cell_type": "code",
   "execution_count": 35,
   "metadata": {},
   "outputs": [],
   "source": [
    "# Assign name based on domain\n",
    "df_topics[\"topic_name\"] = np.where(df_topics[\"top_topic\"] == 0,\n",
    "                                   \"environment\",\n",
    "                                   \"economic\")"
   ]
  },
  {
   "cell_type": "code",
   "execution_count": 36,
   "metadata": {},
   "outputs": [
    {
     "data": {
      "text/html": [
       "<div>\n",
       "<style scoped>\n",
       "    .dataframe tbody tr th:only-of-type {\n",
       "        vertical-align: middle;\n",
       "    }\n",
       "\n",
       "    .dataframe tbody tr th {\n",
       "        vertical-align: top;\n",
       "    }\n",
       "\n",
       "    .dataframe thead th {\n",
       "        text-align: right;\n",
       "    }\n",
       "</style>\n",
       "<table border=\"1\" class=\"dataframe\">\n",
       "  <thead>\n",
       "    <tr style=\"text-align: right;\">\n",
       "      <th></th>\n",
       "      <th>Topic_0</th>\n",
       "      <th>Topic_1</th>\n",
       "      <th>top_topic</th>\n",
       "      <th>topic_name</th>\n",
       "    </tr>\n",
       "  </thead>\n",
       "  <tbody>\n",
       "    <tr>\n",
       "      <th>Document_0</th>\n",
       "      <td>0.90</td>\n",
       "      <td>0.10</td>\n",
       "      <td>0</td>\n",
       "      <td>environment</td>\n",
       "    </tr>\n",
       "    <tr>\n",
       "      <th>Document_1</th>\n",
       "      <td>0.88</td>\n",
       "      <td>0.12</td>\n",
       "      <td>0</td>\n",
       "      <td>environment</td>\n",
       "    </tr>\n",
       "    <tr>\n",
       "      <th>Document_2</th>\n",
       "      <td>0.90</td>\n",
       "      <td>0.10</td>\n",
       "      <td>0</td>\n",
       "      <td>environment</td>\n",
       "    </tr>\n",
       "    <tr>\n",
       "      <th>Document_3</th>\n",
       "      <td>0.94</td>\n",
       "      <td>0.06</td>\n",
       "      <td>0</td>\n",
       "      <td>environment</td>\n",
       "    </tr>\n",
       "    <tr>\n",
       "      <th>Document_4</th>\n",
       "      <td>0.08</td>\n",
       "      <td>0.92</td>\n",
       "      <td>2</td>\n",
       "      <td>economic</td>\n",
       "    </tr>\n",
       "    <tr>\n",
       "      <th>Document_5</th>\n",
       "      <td>0.10</td>\n",
       "      <td>0.90</td>\n",
       "      <td>2</td>\n",
       "      <td>economic</td>\n",
       "    </tr>\n",
       "    <tr>\n",
       "      <th>Document_6</th>\n",
       "      <td>0.09</td>\n",
       "      <td>0.91</td>\n",
       "      <td>2</td>\n",
       "      <td>economic</td>\n",
       "    </tr>\n",
       "    <tr>\n",
       "      <th>Document_7</th>\n",
       "      <td>0.07</td>\n",
       "      <td>0.93</td>\n",
       "      <td>2</td>\n",
       "      <td>economic</td>\n",
       "    </tr>\n",
       "    <tr>\n",
       "      <th>Document_8</th>\n",
       "      <td>0.07</td>\n",
       "      <td>0.93</td>\n",
       "      <td>2</td>\n",
       "      <td>economic</td>\n",
       "    </tr>\n",
       "  </tbody>\n",
       "</table>\n",
       "</div>"
      ],
      "text/plain": [
       "            Topic_0  Topic_1  top_topic   topic_name\n",
       "Document_0     0.90     0.10          0  environment\n",
       "Document_1     0.88     0.12          0  environment\n",
       "Document_2     0.90     0.10          0  environment\n",
       "Document_3     0.94     0.06          0  environment\n",
       "Document_4     0.08     0.92          2     economic\n",
       "Document_5     0.10     0.90          2     economic\n",
       "Document_6     0.09     0.91          2     economic\n",
       "Document_7     0.07     0.93          2     economic\n",
       "Document_8     0.07     0.93          2     economic"
      ]
     },
     "execution_count": 36,
     "metadata": {},
     "output_type": "execute_result"
    }
   ],
   "source": [
    "df_topics"
   ]
  },
  {
   "cell_type": "markdown",
   "metadata": {},
   "source": [
    "### PyLDAvis"
   ]
  },
  {
   "cell_type": "code",
   "execution_count": 30,
   "metadata": {},
   "outputs": [
    {
     "name": "stderr",
     "output_type": "stream",
     "text": [
      "/Users/gl598/opt/anaconda3/lib/python3.8/site-packages/pyLDAvis/_prepare.py:246: FutureWarning: In a future version of pandas all arguments of DataFrame.drop except for the argument 'labels' will be keyword-only\n",
      "  default_term_info = default_term_info.sort_values(\n"
     ]
    }
   ],
   "source": [
    "import pyLDAvis.sklearn\n",
    "lda_viz = pyLDAvis.sklearn.prepare(lda_model=lda,\n",
    "                                   dtm=X,\n",
    "                                   vectorizer=vec,\n",
    "                                      sort_topics=False)"
   ]
  },
  {
   "cell_type": "code",
   "execution_count": 31,
   "metadata": {},
   "outputs": [
    {
     "name": "stderr",
     "output_type": "stream",
     "text": [
      "/Users/gl598/opt/anaconda3/lib/python3.8/site-packages/ipykernel/ipkernel.py:287: DeprecationWarning: `should_run_async` will not call `transform_cell` automatically in the future. Please pass the result to `transformed_cell` argument and any exception that happen during thetransform in `preprocessing_exc_tuple` in IPython 7.17 and above.\n",
      "  and should_run_async(code)\n"
     ]
    },
    {
     "data": {
      "text/html": [
       "\n",
       "<link rel=\"stylesheet\" type=\"text/css\" href=\"https://cdn.jsdelivr.net/gh/bmabey/pyLDAvis@3.3.1/pyLDAvis/js/ldavis.v1.0.0.css\">\n",
       "\n",
       "\n",
       "<div id=\"ldavis_el92631405809524803368365850532\"></div>\n",
       "<script type=\"text/javascript\">\n",
       "\n",
       "var ldavis_el92631405809524803368365850532_data = {\"mdsDat\": {\"x\": [0.05635919168731338, -0.05635919168731338], \"y\": [0.0, 0.0], \"topics\": [1, 2], \"cluster\": [1, 1], \"Freq\": [46.53163173137987, 53.468368268620125]}, \"tinfo\": {\"Term\": [\"change\", \"pollution\", \"environmental\", \"bargaining\", \"increases\", \"wages\", \"collective\", \"need\", \"low\", \"power\", \"chamge\", \"solar\", \"environment\", \"global\", \"warming\", \"living\", \"raising\", \"standards\", \"investing\", \"fuels\", \"renewable\", \"increase\", \"federal\", \"ensure\", \"poverty\", \"livable\", \"level\", \"focus\", \"main\", \"degredation\", \"bargaining\", \"collective\", \"increases\", \"low\", \"need\", \"wages\", \"chamge\", \"power\", \"environment\", \"solar\", \"warming\", \"global\", \"living\", \"raising\", \"standards\", \"investing\", \"fuels\", \"renewable\", \"wage\", \"minimum\", \"regulation\", \"climate\", \"policy\", \"mitigation\", \"funding\", \"like\", \"important\", \"reducing\", \"degredation\", \"focus\", \"environmental\", \"pollution\", \"change\", \"pollution\", \"environmental\", \"increase\", \"ensure\", \"federal\", \"level\", \"livable\", \"poverty\", \"focus\", \"degredation\", \"main\", \"reducing\", \"important\", \"like\", \"funding\", \"mitigation\", \"policy\", \"climate\", \"regulation\", \"minimum\", \"wage\", \"renewable\", \"fuels\", \"investing\", \"standards\", \"raising\", \"living\", \"warming\", \"global\", \"environment\"], \"Freq\": [1.0, 1.0, 2.0, 1.0, 1.0, 1.0, 1.0, 1.0, 1.0, 1.0, 1.0, 1.0, 1.0, 1.0, 1.0, 1.0, 1.0, 1.0, 1.0, 1.0, 1.0, 1.0, 1.0, 1.0, 1.0, 1.0, 1.0, 1.0, 1.0, 1.0, 0.8420466390026279, 0.8420466390026279, 0.8420466390026279, 0.8420466390026279, 0.8420466390026279, 0.8420466390026279, 0.8417360836185512, 0.8417360836185512, 0.841736083618551, 0.841736083618551, 0.8417360836185507, 0.841736083618551, 0.8407041036019418, 0.8407041036019413, 0.8407041036019411, 0.8355295425024244, 0.8355295425017321, 0.8355295425009133, 1.414217263561482, 1.4142172623637088, 0.80658217698449, 0.8387164096402606, 0.2847076362208087, 0.2845807357727693, 0.2845807357727682, 0.2845807357727656, 0.28441051715305066, 0.2844105171530492, 0.28362257334114455, 0.28362257334114455, 0.6949732409003289, 0.2845873811452675, 1.4602807321969236, 1.4599238448213006, 2.203542729455568, 0.8758538015533277, 0.8758538015533277, 0.8758538015533277, 0.8758538015533277, 0.8758538015533277, 0.8758538015533277, 0.8755539828884099, 0.8755539828884098, 0.8755539828884098, 0.874733891778568, 0.8747338917785665, 0.8745567284140615, 0.8745567284140586, 0.8745567284140577, 0.8744246505581248, 1.4685609542187161, 0.9166321976457743, 1.4549542909180675, 1.4549542896714267, 0.30112977645472294, 0.30112977645387073, 0.30112977645315014, 0.2957440985774793, 0.295744098577479, 0.2957440985774785, 0.2946700148365204, 0.29467001483652044, 0.29467001483652033], \"Total\": [1.0, 1.0, 2.0, 1.0, 1.0, 1.0, 1.0, 1.0, 1.0, 1.0, 1.0, 1.0, 1.0, 1.0, 1.0, 1.0, 1.0, 1.0, 1.0, 1.0, 1.0, 1.0, 1.0, 1.0, 1.0, 1.0, 1.0, 1.0, 1.0, 1.0, 1.1363934281144874, 1.1363934281144874, 1.1363934281144874, 1.1363934281144874, 1.1363934281144874, 1.1363934281144874, 1.1364060984550712, 1.1364060984550712, 1.1364060984550712, 1.1364060984550712, 1.136406098455071, 1.1364060984550715, 1.1364482021794204, 1.1364482021794202, 1.1364482021794204, 1.1366593189555745, 1.1366593189556027, 1.1366593189556362, 2.869171553232909, 2.8691715532817765, 1.7232143746302642, 2.3072773638589767, 1.1591322867789335, 1.159137464186827, 1.1591374641868268, 1.159137464186827, 1.1591444089316172, 1.1591444089316172, 1.1591765562295544, 1.1591765562295544, 2.8985159703558967, 1.744511225966568, 1.7445252158326405, 1.744511225966568, 2.8985159703558967, 1.1591883090212047, 1.159188309021205, 1.159188309021205, 1.159188309021205, 1.159188309021205, 1.159188309021205, 1.1591765562295544, 1.1591765562295544, 1.1591765562295544, 1.1591444089316172, 1.1591444089316172, 1.159137464186827, 1.1591374641868268, 1.159137464186827, 1.1591322867789335, 2.3072773638589767, 1.7232143746302642, 2.8691715532817765, 2.869171553232909, 1.1366593189556362, 1.1366593189556027, 1.1366593189555745, 1.1364482021794204, 1.1364482021794202, 1.1364482021794204, 1.136406098455071, 1.1364060984550715, 1.1364060984550712], \"Category\": [\"Default\", \"Default\", \"Default\", \"Default\", \"Default\", \"Default\", \"Default\", \"Default\", \"Default\", \"Default\", \"Default\", \"Default\", \"Default\", \"Default\", \"Default\", \"Default\", \"Default\", \"Default\", \"Default\", \"Default\", \"Default\", \"Default\", \"Default\", \"Default\", \"Default\", \"Default\", \"Default\", \"Default\", \"Default\", \"Default\", \"Topic1\", \"Topic1\", \"Topic1\", \"Topic1\", \"Topic1\", \"Topic1\", \"Topic1\", \"Topic1\", \"Topic1\", \"Topic1\", \"Topic1\", \"Topic1\", \"Topic1\", \"Topic1\", \"Topic1\", \"Topic1\", \"Topic1\", \"Topic1\", \"Topic1\", \"Topic1\", \"Topic1\", \"Topic1\", \"Topic1\", \"Topic1\", \"Topic1\", \"Topic1\", \"Topic1\", \"Topic1\", \"Topic1\", \"Topic1\", \"Topic1\", \"Topic1\", \"Topic2\", \"Topic2\", \"Topic2\", \"Topic2\", \"Topic2\", \"Topic2\", \"Topic2\", \"Topic2\", \"Topic2\", \"Topic2\", \"Topic2\", \"Topic2\", \"Topic2\", \"Topic2\", \"Topic2\", \"Topic2\", \"Topic2\", \"Topic2\", \"Topic2\", \"Topic2\", \"Topic2\", \"Topic2\", \"Topic2\", \"Topic2\", \"Topic2\", \"Topic2\", \"Topic2\", \"Topic2\", \"Topic2\", \"Topic2\", \"Topic2\"], \"logprob\": [30.0, 29.0, 28.0, 27.0, 26.0, 25.0, 24.0, 23.0, 22.0, 21.0, 20.0, 19.0, 18.0, 17.0, 16.0, 15.0, 14.0, 13.0, 12.0, 11.0, 10.0, 9.0, 8.0, 7.0, 6.0, 5.0, 4.0, 3.0, 2.0, 1.0, -3.3959, -3.3959, -3.3959, -3.3959, -3.3959, -3.3959, -3.3962, -3.3962, -3.3962, -3.3962, -3.3962, -3.3962, -3.3975, -3.3975, -3.3975, -3.4036, -3.4036, -3.4036, -2.8774, -2.8774, -3.4389, -3.3998, -4.4802, -4.4807, -4.4807, -4.4807, -4.4813, -4.4813, -4.4841, -4.4841, -3.5878, -4.4807, -2.9843, -2.9845, -2.5728, -3.4955, -3.4955, -3.4955, -3.4955, -3.4955, -3.4955, -3.4958, -3.4958, -3.4958, -3.4967, -3.4967, -3.4969, -3.4969, -3.4969, -3.4971, -2.9786, -3.45, -2.9879, -2.9879, -4.5631, -4.5631, -4.5631, -4.5812, -4.5812, -4.5812, -4.5848, -4.5848, -4.5848], \"loglift\": [30.0, 29.0, 28.0, 27.0, 26.0, 25.0, 24.0, 23.0, 22.0, 21.0, 20.0, 19.0, 18.0, 17.0, 16.0, 15.0, 14.0, 13.0, 12.0, 11.0, 10.0, 9.0, 8.0, 7.0, 6.0, 5.0, 4.0, 3.0, 2.0, 1.0, 0.4653, 0.4653, 0.4653, 0.4653, 0.4653, 0.4653, 0.4649, 0.4649, 0.4649, 0.4649, 0.4649, 0.4649, 0.4636, 0.4636, 0.4636, 0.4573, 0.4573, 0.4573, 0.0576, 0.0576, 0.0059, -0.2469, -0.6389, -0.6394, -0.6394, -0.6394, -0.64, -0.64, -0.6428, -0.6428, -0.663, -1.0482, 0.4482, 0.448, 0.3519, 0.3458, 0.3458, 0.3458, 0.3458, 0.3458, 0.3458, 0.3455, 0.3455, 0.3455, 0.3446, 0.3446, 0.3444, 0.3444, 0.3444, 0.3442, 0.1743, -0.0052, -0.053, -0.053, -0.7022, -0.7022, -0.7022, -0.7201, -0.7201, -0.7201, -0.7237, -0.7237, -0.7237]}, \"token.table\": {\"Topic\": [1, 1, 2, 1, 2, 1, 2, 2, 1, 1, 2, 2, 2, 1, 2, 1, 2, 2, 1, 1, 2, 2, 2, 1, 1, 2, 1, 2, 2, 1, 2, 2, 2, 1, 1, 2, 1, 2, 1, 1, 1, 1, 2, 1, 1], \"Freq\": [0.8799769298729645, 0.8799671185850608, 0.573221866284525, 0.43341126457699736, 0.43341126457699736, 0.8799769298729645, 0.8626813530914507, 0.8626726065279071, 0.8799671185850608, 0.3450041366779891, 0.6900082733559783, 0.8626726065279071, 0.8626813530914507, 0.8797710829651496, 0.8627104471181363, 0.8799671185850607, 0.8627052783886517, 0.8626726065279073, 0.8799769298729645, 0.8797710829651715, 0.8626726065279071, 0.862710447118136, 0.8626726065279071, 0.8799345171053575, 0.8799769298729645, 0.8626813530914507, 0.3485326622788357, 0.3485326622788357, 0.862710447118136, 0.8799769298729645, 0.862714300521177, 0.5732264631578611, 0.8626726065279071, 0.8799671185850608, 0.8799345171053576, 0.8627052783886517, 0.5803108508856083, 0.5803108508856083, 0.8797710829651236, 0.8799671185850608, 0.8799345171053575, 0.3485326622847719, 0.3485326622847719, 0.8799769298729645, 0.879967118585061], \"Term\": [\"bargaining\", \"chamge\", \"change\", \"climate\", \"climate\", \"collective\", \"degredation\", \"ensure\", \"environment\", \"environmental\", \"environmental\", \"federal\", \"focus\", \"fuels\", \"funding\", \"global\", \"important\", \"increase\", \"increases\", \"investing\", \"level\", \"like\", \"livable\", \"living\", \"low\", \"main\", \"minimum\", \"minimum\", \"mitigation\", \"need\", \"policy\", \"pollution\", \"poverty\", \"power\", \"raising\", \"reducing\", \"regulation\", \"regulation\", \"renewable\", \"solar\", \"standards\", \"wage\", \"wage\", \"wages\", \"warming\"]}, \"R\": 30, \"lambda.step\": 0.01, \"plot.opts\": {\"xlab\": \"PC1\", \"ylab\": \"PC2\"}, \"topic.order\": [1, 2]};\n",
       "\n",
       "function LDAvis_load_lib(url, callback){\n",
       "  var s = document.createElement('script');\n",
       "  s.src = url;\n",
       "  s.async = true;\n",
       "  s.onreadystatechange = s.onload = callback;\n",
       "  s.onerror = function(){console.warn(\"failed to load library \" + url);};\n",
       "  document.getElementsByTagName(\"head\")[0].appendChild(s);\n",
       "}\n",
       "\n",
       "if(typeof(LDAvis) !== \"undefined\"){\n",
       "   // already loaded: just create the visualization\n",
       "   !function(LDAvis){\n",
       "       new LDAvis(\"#\" + \"ldavis_el92631405809524803368365850532\", ldavis_el92631405809524803368365850532_data);\n",
       "   }(LDAvis);\n",
       "}else if(typeof define === \"function\" && define.amd){\n",
       "   // require.js is available: use it to load d3/LDAvis\n",
       "   require.config({paths: {d3: \"https://d3js.org/d3.v5\"}});\n",
       "   require([\"d3\"], function(d3){\n",
       "      window.d3 = d3;\n",
       "      LDAvis_load_lib(\"https://cdn.jsdelivr.net/gh/bmabey/pyLDAvis@3.3.1/pyLDAvis/js/ldavis.v3.0.0.js\", function(){\n",
       "        new LDAvis(\"#\" + \"ldavis_el92631405809524803368365850532\", ldavis_el92631405809524803368365850532_data);\n",
       "      });\n",
       "    });\n",
       "}else{\n",
       "    // require.js not available: dynamically load d3 & LDAvis\n",
       "    LDAvis_load_lib(\"https://d3js.org/d3.v5.js\", function(){\n",
       "         LDAvis_load_lib(\"https://cdn.jsdelivr.net/gh/bmabey/pyLDAvis@3.3.1/pyLDAvis/js/ldavis.v3.0.0.js\", function(){\n",
       "                 new LDAvis(\"#\" + \"ldavis_el92631405809524803368365850532\", ldavis_el92631405809524803368365850532_data);\n",
       "            })\n",
       "         });\n",
       "}\n",
       "</script>"
      ],
      "text/plain": [
       "<IPython.core.display.HTML object>"
      ]
     },
     "execution_count": 31,
     "metadata": {},
     "output_type": "execute_result"
    }
   ],
   "source": [
    "pyLDAvis.display(lda_viz)\n",
    "\n",
    "# pyLDAvis\n",
    "# Left panel: \n",
    "    # global view of topic model\n",
    "    # centers of circle are distance between topics then projected onto two dimensions\n",
    "    # area of circles is the overall prevalence of the topic in the whole topic model\n",
    "    # examine how prevalent each topic is\n",
    "    # examine how topics relate to each other\n",
    "# Right panel:\n",
    "    # Bars represent individual terms that are most useful for interpreting selected topic on left\n",
    "    # Blue bar represents corpus wide frequencies\n",
    "    # Red bar represents topic-specific frequencies\n",
    "    # examine the meaning of each topic"
   ]
  },
  {
   "cell_type": "code",
   "execution_count": null,
   "metadata": {},
   "outputs": [],
   "source": []
  },
  {
   "cell_type": "code",
   "execution_count": null,
   "metadata": {},
   "outputs": [],
   "source": []
  }
 ],
 "metadata": {
  "kernelspec": {
   "display_name": "Python 3",
   "language": "python",
   "name": "python3"
  },
  "language_info": {
   "codemirror_mode": {
    "name": "ipython",
    "version": 3
   },
   "file_extension": ".py",
   "mimetype": "text/x-python",
   "name": "python",
   "nbconvert_exporter": "python",
   "pygments_lexer": "ipython3",
   "version": "3.8.3"
  }
 },
 "nbformat": 4,
 "nbformat_minor": 4
}
