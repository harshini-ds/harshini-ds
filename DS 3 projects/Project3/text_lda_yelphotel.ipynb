{
 "cells": [
  {
   "cell_type": "markdown",
   "metadata": {},
   "source": [
    "## Topic modeling using Yelp hotel reviews"
   ]
  },
  {
   "cell_type": "code",
   "execution_count": null,
   "metadata": {},
   "outputs": [],
   "source": [
    "import warnings\n",
    "warnings.filterwarnings(\"ignore\")"
   ]
  },
  {
   "cell_type": "code",
   "execution_count": null,
   "metadata": {},
   "outputs": [],
   "source": [
    "import pandas as pd\n",
    "from sklearn.feature_extraction.text import CountVectorizer\n",
    "from sklearn.decomposition import LatentDirichletAllocation"
   ]
  },
  {
   "cell_type": "code",
   "execution_count": null,
   "metadata": {},
   "outputs": [],
   "source": [
    "# Read in data\n",
    "reviews_df = pd.read_sql_table(\"review\",\n",
    "                              \"sqlite:///yelpHotelData.db\")"
   ]
  },
  {
   "cell_type": "code",
   "execution_count": null,
   "metadata": {},
   "outputs": [],
   "source": [
    "# Select only reviewID, reviewContent text, rating\n",
    "df = reviews_df[[\"reviewID\", \"reviewContent\", \"rating\"]]"
   ]
  },
  {
   "cell_type": "code",
   "execution_count": null,
   "metadata": {},
   "outputs": [],
   "source": [
    "# Take smaller sample to ease computation time\n",
    "df = df.sample(1000)"
   ]
  },
  {
   "cell_type": "code",
   "execution_count": null,
   "metadata": {},
   "outputs": [],
   "source": [
    "# Steps:\n",
    "    # 1: Instantiate vectorizer with parameters: vectorizer\n",
    "    # 2: Vectorize column of text with fit_transform: X\n",
    "    # 3: Instantiate LDA model with parameters: lda\n",
    "    # 4: Fit LDA model to vectorized text: doc_topics"
   ]
  },
  {
   "cell_type": "code",
   "execution_count": null,
   "metadata": {},
   "outputs": [],
   "source": [
    "# 1 Instantiate vectorizer\n",
    "vec = CountVectorizer(stop_words=\"english\",\n",
    "                    lowercase=True,\n",
    "                    ngram_range=(1, 1), # lower bound,upper bound: 1,1 only unigrams, 1,2 unigrams and bigrams, 2,2 only bigrams, etc...,\n",
    "                    min_df=5, # ignore rare words (appear in less than 5 documents)\n",
    "                    max_df=0.7) # ignore common words (appear in more than 70% of documents)"
   ]
  },
  {
   "cell_type": "code",
   "execution_count": null,
   "metadata": {},
   "outputs": [],
   "source": [
    "# 2 Create dtm\n",
    "X = vec.fit_transform(df[\"reviewContent\"])"
   ]
  },
  {
   "cell_type": "code",
   "execution_count": null,
   "metadata": {},
   "outputs": [],
   "source": [
    "# CHECK: Documents, terms\n",
    "X.shape"
   ]
  },
  {
   "cell_type": "code",
   "execution_count": null,
   "metadata": {},
   "outputs": [],
   "source": [
    "# 3 Instantiate LDA\n",
    "lda = LatentDirichletAllocation(n_components=10,\n",
    "                                       random_state=42)"
   ]
  },
  {
   "cell_type": "code",
   "execution_count": null,
   "metadata": {},
   "outputs": [],
   "source": [
    "# 4\n",
    "doc_topics = lda.fit_transform(X)"
   ]
  },
  {
   "cell_type": "code",
   "execution_count": null,
   "metadata": {},
   "outputs": [],
   "source": [
    "import pyLDAvis.sklearn\n",
    "lda_viz = pyLDAvis.sklearn.prepare(lda_model=lda,\n",
    "                                  dtm=X,\n",
    "                                  vectorizer=vec,\n",
    "                                  sort_topics=False)"
   ]
  },
  {
   "cell_type": "code",
   "execution_count": null,
   "metadata": {},
   "outputs": [],
   "source": [
    "pyLDAvis.display(lda_viz)\n",
    "\n",
    "# pyLDAvis\n",
    "# Left panel: \n",
    "    # global view of topic model\n",
    "    # centers of circle are distance between topics then projected onto two dimensions\n",
    "    # area of circles is the overall prevalence of the topic in the whole topic model\n",
    "    # examine how prevalent each topic is\n",
    "    # examine how topics relate to each other\n",
    "# Right panel:\n",
    "    # Bars represent individual terms that are most useful for interpreting selected topic on left\n",
    "    # Blue bar represents corpus wide frequencies\n",
    "    # Red bar represents topic-specific frequencies\n",
    "    # examine the meaning of each topic"
   ]
  },
  {
   "cell_type": "markdown",
   "metadata": {},
   "source": [
    "## Filter data to look at only bad reviews"
   ]
  },
  {
   "cell_type": "code",
   "execution_count": null,
   "metadata": {},
   "outputs": [],
   "source": [
    "small_bad = df[df[\"rating\"] == 1]"
   ]
  },
  {
   "cell_type": "code",
   "execution_count": null,
   "metadata": {},
   "outputs": [],
   "source": [
    "# 1 Instantiate vectorizer, maybe adjust parameters?\n",
    "vec = CountVectorizer(stop_words=\"english\",\n",
    "                    lowercase=True,\n",
    "                    ngram_range=(1, 1), # lower bound,upper bound: 1,1 only unigrams, 1,2 unigrams and bigrams, 2,2 only bigrams, etc...,\n",
    "                    min_df=5, # ignore rare words (appear in less than 5 documents)\n",
    "                    max_df=0.7) # ignore common words (appear in more than 70% of documents)"
   ]
  },
  {
   "cell_type": "code",
   "execution_count": null,
   "metadata": {},
   "outputs": [],
   "source": [
    "# 2 Create dtm\n",
    "X = vec.fit_transform(small_bad[\"reviewContent\"])"
   ]
  },
  {
   "cell_type": "code",
   "execution_count": null,
   "metadata": {},
   "outputs": [],
   "source": [
    "# CHECK: Documents, terms\n",
    "X.shape"
   ]
  },
  {
   "cell_type": "code",
   "execution_count": null,
   "metadata": {},
   "outputs": [],
   "source": [
    "# 3 Instantiate LDA\n",
    "lda = LatentDirichletAllocation(n_components=3)"
   ]
  },
  {
   "cell_type": "code",
   "execution_count": null,
   "metadata": {},
   "outputs": [],
   "source": [
    "# 4\n",
    "doc_topics = lda.fit_transform(X)"
   ]
  },
  {
   "cell_type": "code",
   "execution_count": null,
   "metadata": {},
   "outputs": [],
   "source": [
    "import pyLDAvis.sklearn\n",
    "lda_viz = pyLDAvis.sklearn.prepare(lda_model=lda,\n",
    "                                  dtm=X,\n",
    "                                  vectorizer=vec,\n",
    "                                  sort_topics=False)"
   ]
  },
  {
   "cell_type": "code",
   "execution_count": null,
   "metadata": {},
   "outputs": [],
   "source": [
    "pyLDAvis.display(lda_viz)"
   ]
  }
 ],
 "metadata": {
  "kernelspec": {
   "display_name": "Python 3",
   "language": "python",
   "name": "python3"
  },
  "language_info": {
   "codemirror_mode": {
    "name": "ipython",
    "version": 3
   },
   "file_extension": ".py",
   "mimetype": "text/x-python",
   "name": "python",
   "nbconvert_exporter": "python",
   "pygments_lexer": "ipython3",
   "version": "3.8.3"
  }
 },
 "nbformat": 4,
 "nbformat_minor": 4
}
